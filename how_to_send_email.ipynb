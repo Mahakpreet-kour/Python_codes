{
 "cells": [
  {
   "cell_type": "code",
   "execution_count": 1,
   "id": "e4e539eb-3bd3-46a6-8997-cec41568d0d0",
   "metadata": {},
   "outputs": [],
   "source": [
    "import pywhatkit"
   ]
  },
  {
   "cell_type": "code",
   "execution_count": 10,
   "id": "bb6d716a-fe58-4435-b79f-d448b2b90005",
   "metadata": {},
   "outputs": [],
   "source": [
    "def sendmail(email_sender,password,subject,message,email_receiver):\n",
    "    try:\n",
    "        pywhatkit.send_mail(email_sender, password, subject, message, email_receiver)\n",
    "        print(\"Email sent successfully!\")\n",
    "    except Exception as e:\n",
    "        print(\"Error:\", e)\n"
   ]
  },
  {
   "cell_type": "code",
   "execution_count": null,
   "id": "cdd714f0-6dd6-42d4-b0dc-b4b5c99d46ac",
   "metadata": {},
   "outputs": [
    {
     "name": "stdout",
     "output_type": "stream",
     "text": [
      "Email Sent Successfully!\n",
      "Email sent successfully!\n"
     ]
    }
   ],
   "source": [
    "sendmail(\"sender_gmail_id\",\"your_app_password\",\"hlo\",\"hlo\",\"receiver_mail_id\")"
   ]
  },
  {
   "cell_type": "code",
   "execution_count": null,
   "id": "278f05b8-c85e-4931-accc-378537b7e83b",
   "metadata": {},
   "outputs": [],
   "source": []
  }
 ],
 "metadata": {
  "kernelspec": {
   "display_name": "Python 3 (ipykernel)",
   "language": "python",
   "name": "python3"
  },
  "language_info": {
   "codemirror_mode": {
    "name": "ipython",
    "version": 3
   },
   "file_extension": ".py",
   "mimetype": "text/x-python",
   "name": "python",
   "nbconvert_exporter": "python",
   "pygments_lexer": "ipython3",
   "version": "3.12.7"
  }
 },
 "nbformat": 4,
 "nbformat_minor": 5
}
