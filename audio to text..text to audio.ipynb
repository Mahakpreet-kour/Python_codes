{
 "cells": [
  {
   "cell_type": "code",
   "execution_count": 1,
   "id": "a3569d1b-5df5-4864-b72f-df48c1312c18",
   "metadata": {},
   "outputs": [],
   "source": [
    "import speech_recognition as sr\n",
    "import pyttsx3"
   ]
  },
  {
   "cell_type": "code",
   "execution_count": 2,
   "id": "adb73e56-8a29-4a52-8d67-462ff5e1536b",
   "metadata": {},
   "outputs": [],
   "source": [
    "recognizer= sr.Recognizer()"
   ]
  },
  {
   "cell_type": "code",
   "execution_count": 3,
   "id": "bcc852af-b5c0-42a8-929e-ada3dfc5e71d",
   "metadata": {},
   "outputs": [],
   "source": [
    "engine= pyttsx3.init()"
   ]
  },
  {
   "cell_type": "code",
   "execution_count": null,
   "id": "b062ef3d-5c58-421c-9897-8d2e390b8d02",
   "metadata": {},
   "outputs": [],
   "source": [
    "mic= sr.Microphone()"
   ]
  },
  {
   "cell_type": "code",
   "execution_count": 5,
   "id": "965a90e7-a82e-4ac6-a00c-872f5a0c9424",
   "metadata": {},
   "outputs": [],
   "source": [
    "audio =recognizer.listen(mic_obj)"
   ]
  },
  {
   "cell_type": "code",
   "execution_count": 4,
   "id": "f18a803e-823e-48a0-92cd-45620a33976a",
   "metadata": {},
   "outputs": [],
   "source": [
    "mic= sr.Microphone()\n",
    "mic_obj=mic.__enter__()"
   ]
  },
  {
   "cell_type": "code",
   "execution_count": 14,
   "id": "c4c87094-a8e1-4977-8e30-61ce1a76941c",
   "metadata": {},
   "outputs": [
    {
     "data": {
      "text/plain": [
       "'so I am saying hello hello'"
      ]
     },
     "execution_count": 14,
     "metadata": {},
     "output_type": "execute_result"
    }
   ],
   "source": [
    "text=recognizer.recognize_google(audio)\n",
    "text"
   ]
  },
  {
   "cell_type": "code",
   "execution_count": null,
   "id": "87745d45-8180-4565-9abd-933d25f1a544",
   "metadata": {},
   "outputs": [],
   "source": [
    "text\n"
   ]
  },
  {
   "cell_type": "code",
   "execution_count": 10,
   "id": "079910cd-ddae-4226-8552-4c1410f7bb20",
   "metadata": {},
   "outputs": [],
   "source": [
    "engine.say(text)"
   ]
  },
  {
   "cell_type": "code",
   "execution_count": 11,
   "id": "309fe9ab-f67e-40fc-8b53-53dcd9ab135d",
   "metadata": {},
   "outputs": [],
   "source": [
    "engine.runAndWait()"
   ]
  },
  {
   "cell_type": "code",
   "execution_count": 13,
   "id": "a6df0427-a1f2-4b91-b353-ecf01ac3e842",
   "metadata": {},
   "outputs": [],
   "source": [
    "mic.__exit__(None,None,None)"
   ]
  },
  {
   "cell_type": "code",
   "execution_count": null,
   "id": "7d1d609d-225f-4cc8-ad17-a3351c61915e",
   "metadata": {},
   "outputs": [],
   "source": []
  }
 ],
 "metadata": {
  "kernelspec": {
   "display_name": "Python 3 (ipykernel)",
   "language": "python",
   "name": "python3"
  },
  "language_info": {
   "codemirror_mode": {
    "name": "ipython",
    "version": 3
   },
   "file_extension": ".py",
   "mimetype": "text/x-python",
   "name": "python",
   "nbconvert_exporter": "python",
   "pygments_lexer": "ipython3",
   "version": "3.12.7"
  }
 },
 "nbformat": 4,
 "nbformat_minor": 5
}
