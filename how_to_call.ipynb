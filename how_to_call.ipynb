{
 "cells": [
  {
   "cell_type": "code",
   "execution_count": 19,
   "id": "0f5e349b-a412-4b80-abea-92cb503ac717",
   "metadata": {},
   "outputs": [],
   "source": [
    "from twilio.rest import Client"
   ]
  },
  {
   "cell_type": "code",
   "execution_count": null,
   "id": "8f885b07-59b3-4a64-9ae2-2efea6581da6",
   "metadata": {},
   "outputs": [],
   "source": [
    "account_sid=\"your_acc_sid\""
   ]
  },
  {
   "cell_type": "code",
   "execution_count": null,
   "id": "f11102d1-cb25-418d-ae0c-6fab96a8f3f2",
   "metadata": {},
   "outputs": [],
   "source": [
    "auth_token =\"your_auth_token\""
   ]
  },
  {
   "cell_type": "code",
   "execution_count": 22,
   "id": "9f7765f3-82c0-4249-bd57-39874f47234f",
   "metadata": {},
   "outputs": [],
   "source": [
    "client=Client(account_sid,auth_token)"
   ]
  },
  {
   "cell_type": "code",
   "execution_count": null,
   "id": "ca104a43-6697-4dcc-9d8f-bfaa693a895c",
   "metadata": {},
   "outputs": [],
   "source": [
    "call= client.calls.create(\n",
    "    to=\"phone_number_to_which_you_want_to_call\",\n",
    "    from_=\"you_twilio_number\",\n",
    "    url=\"https://demo.twilio.com/docs/voice.xml\")\n",
    "    "
   ]
  },
  {
   "cell_type": "code",
   "execution_count": null,
   "id": "4ea1fdba-b29f-413d-9589-b9047d8c838b",
   "metadata": {},
   "outputs": [],
   "source": []
  }
 ],
 "metadata": {
  "kernelspec": {
   "display_name": "Python 3 (ipykernel)",
   "language": "python",
   "name": "python3"
  },
  "language_info": {
   "codemirror_mode": {
    "name": "ipython",
    "version": 3
   },
   "file_extension": ".py",
   "mimetype": "text/x-python",
   "name": "python",
   "nbconvert_exporter": "python",
   "pygments_lexer": "ipython3",
   "version": "3.12.7"
  }
 },
 "nbformat": 4,
 "nbformat_minor": 5
}
