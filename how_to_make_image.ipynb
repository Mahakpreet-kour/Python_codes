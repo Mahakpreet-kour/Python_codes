{
 "cells": [
  {
   "cell_type": "code",
   "execution_count": 4,
   "id": "19e66772-ff7b-4ddd-874e-4f648b7ea4e1",
   "metadata": {},
   "outputs": [],
   "source": [
    "from PIL import Image, ImageDraw, ImageFont\n",
    "\n",
    "# Create a teal-colored phone case\n",
    "width, height = 400, 700\n",
    "img = Image.new(\"RGB\", (width, height), (0, 128, 128))  # Teal color\n",
    "\n",
    "draw = ImageDraw.Draw(img)\n",
    "\n",
    "# Simulate camera cutout with 3 circles\n",
    "for i in range(3):\n",
    "    draw.ellipse([30, 50 + i*100, 110, 130 + i*100], fill=(0, 100, 100), outline=\"black\", width=3)\n",
    "\n",
    "# Fourth small circle\n",
    "draw.ellipse([120, 60, 140, 80], fill=(0, 100, 100), outline=\"black\", width=3)\n",
    "\n",
    "# Draw a cartoon-like \"Tom\"\n",
    "draw.ellipse([230, 200, 330, 300], fill=(80, 80, 80))     # Face\n",
    "draw.polygon([(230, 220), (210, 190), (240, 210)], fill=(255, 192, 203))  # Left ear\n",
    "draw.polygon([(330, 220), (350, 190), (320, 210)], fill=(255, 192, 203))  # Right ear\n",
    "draw.ellipse([260, 230, 290, 260], fill=\"white\")          # Eye\n",
    "draw.ellipse([280, 230, 310, 260], fill=\"white\")\n",
    "draw.ellipse([270, 240, 280, 250], fill=\"black\")          # Pupils\n",
    "draw.ellipse([290, 240, 300, 250], fill=\"black\")\n",
    "draw.arc([260, 260, 310, 290], start=0, end=180, fill=\"black\")  # Smile\n",
    "\n",
    "# Draw a cartoon-like \"Jerry\"\n",
    "draw.ellipse([50, 530, 150, 630], fill=(139, 69, 19))  # Head\n",
    "draw.polygon([(40, 550), (20, 520), (60, 540)], fill=(255, 200, 150))  # Left ear\n",
    "draw.polygon([(160, 550), (180, 520), (140, 540)], fill=(255, 200, 150))  # Right ear\n",
    "draw.ellipse([70, 560, 90, 580], fill=\"white\")          # Eye\n",
    "draw.ellipse([110, 560, 130, 580], fill=\"white\")\n",
    "draw.ellipse([80, 570, 85, 575], fill=\"black\")          # Pupils\n",
    "draw.ellipse([120, 570, 125, 575], fill=\"black\")\n",
    "draw.arc([70, 590, 130, 620], start=0, end=180, fill=\"black\")  # Smile\n",
    "\n",
    "# Add text \"JERRY\"\n",
    "font = ImageFont.load_default()\n",
    "draw.text((170, 650), \"JERRY\", fill=\"white\", font=font)\n",
    "\n",
    "# Save and show the image\n",
    "img.save(\"pixel_case_tom_jerry.png\")\n",
    "img.show()"
   ]
  },
  {
   "cell_type": "code",
   "execution_count": null,
   "id": "a39c40f2-3fb0-4784-8d85-70f107ff8a44",
   "metadata": {},
   "outputs": [],
   "source": []
  }
 ],
 "metadata": {
  "kernelspec": {
   "display_name": "Python 3 (ipykernel)",
   "language": "python",
   "name": "python3"
  },
  "language_info": {
   "codemirror_mode": {
    "name": "ipython",
    "version": 3
   },
   "file_extension": ".py",
   "mimetype": "text/x-python",
   "name": "python",
   "nbconvert_exporter": "python",
   "pygments_lexer": "ipython3",
   "version": "3.12.7"
  }
 },
 "nbformat": 4,
 "nbformat_minor": 5
}
