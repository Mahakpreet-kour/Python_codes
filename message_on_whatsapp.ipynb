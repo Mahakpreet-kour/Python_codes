{
 "cells": [
  {
   "cell_type": "code",
   "execution_count": null,
   "id": "47bad719-53be-49e2-b23a-f6c788695180",
   "metadata": {},
   "outputs": [],
   "source": [
    "from flask import Flask,request"
   ]
  },
  {
   "cell_type": "code",
   "execution_count": null,
   "id": "b605f943-682f-44ae-a44c-a27396bf0f8f",
   "metadata": {},
   "outputs": [],
   "source": [
    "import pywhatkit as py"
   ]
  },
  {
   "cell_type": "code",
   "execution_count": null,
   "id": "a4f4034b-46d2-4c93-91e7-b678adcb559c",
   "metadata": {},
   "outputs": [],
   "source": [
    "my_wapp=Flask(__name__)"
   ]
  },
  {
   "cell_type": "code",
   "execution_count": null,
   "id": "63c2fe83-c756-4cd5-93f1-543da57dccf4",
   "metadata": {},
   "outputs": [],
   "source": [
    "@my_wapp.route(\"/search\", methods=[\"POST\"])\n",
    "def sendwhatmsg():\n",
    "    mob=request.form['mobile']\n",
    "    msg=request.form['msg']\n",
    "    hour,minute=map(int,request.form['time'].strip().split(\":\"))\n",
    "    py.sendwhatmsg(mob,msg,hour,minute)\n",
    "    return \"sent\"\n",
    "                                  "
   ]
  },
  {
   "cell_type": "code",
   "execution_count": null,
   "id": "b8caebcb-f904-4e86-a1f7-b482644b2477",
   "metadata": {},
   "outputs": [
    {
     "name": "stdout",
     "output_type": "stream",
     "text": [
      "In 5 Seconds WhatsApp will open and after 15 Seconds Message will be Delivered!\n"
     ]
    }
   ],
   "source": [
    "my_wapp.run()"
   ]
  },
  {
   "cell_type": "code",
   "execution_count": null,
   "id": "a00e97c9-b16e-438d-a98f-49bbb607818b",
   "metadata": {},
   "outputs": [],
   "source": []
  }
 ],
 "metadata": {
  "kernelspec": {
   "display_name": "Python 3 (ipykernel)",
   "language": "python",
   "name": "python3"
  },
  "language_info": {
   "codemirror_mode": {
    "name": "ipython",
    "version": 3
   },
   "file_extension": ".py",
   "mimetype": "text/x-python",
   "name": "python",
   "nbconvert_exporter": "python",
   "pygments_lexer": "ipython3",
   "version": "3.12.7"
  }
 },
 "nbformat": 4,
 "nbformat_minor": 5
}
