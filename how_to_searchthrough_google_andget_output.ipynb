{
 "cells": [
  {
   "cell_type": "code",
   "execution_count": 1,
   "id": "329a0cab-e9a6-4188-974d-851dfd5e5a2d",
   "metadata": {},
   "outputs": [],
   "source": [
    "def searchgoogle(query):\n",
    "    from googlesearch import search\n",
    "   \n",
    "\n",
    "    print(\"Search results:\")\n",
    "    for result in search(query, num_results=5):\n",
    "        print(result)"
   ]
  },
  {
   "cell_type": "code",
   "execution_count": 2,
   "id": "83fc882b-303e-4093-8e64-804dbfdbe1f8",
   "metadata": {},
   "outputs": [
    {
     "name": "stdout",
     "output_type": "stream",
     "text": [
      "Search results:\n",
      "https://in.linkedin.com/in/vimaldaga\n",
      "https://www.udemy.com/user/vimal20/?srsltid=AfmBOorhEUhpbnCeVf-xnZc_sd-NoWmM79Aory3aCK_aqU8aXF0YpLdb\n",
      "https://www.udemy.com/user/vimal20/\n",
      "https://www.instagram.com/vimaldaga.india/?hl=en\n",
      "https://www.hash13.com/aws-csa/\n"
     ]
    }
   ],
   "source": [
    "searchgoogle(\"vimal daga\")"
   ]
  },
  {
   "cell_type": "code",
   "execution_count": null,
   "id": "aaca0547-9313-4434-97e5-1a3f2e166520",
   "metadata": {},
   "outputs": [],
   "source": []
  }
 ],
 "metadata": {
  "kernelspec": {
   "display_name": "Python 3 (ipykernel)",
   "language": "python",
   "name": "python3"
  },
  "language_info": {
   "codemirror_mode": {
    "name": "ipython",
    "version": 3
   },
   "file_extension": ".py",
   "mimetype": "text/x-python",
   "name": "python",
   "nbconvert_exporter": "python",
   "pygments_lexer": "ipython3",
   "version": "3.12.7"
  }
 },
 "nbformat": 4,
 "nbformat_minor": 5
}
