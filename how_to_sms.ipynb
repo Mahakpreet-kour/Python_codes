{
 "cells": [
  {
   "cell_type": "code",
   "execution_count": null,
   "id": "92b7f036-fe7c-48d1-b998-76e694a3c743",
   "metadata": {},
   "outputs": [
    {
     "name": "stdout",
     "output_type": "stream",
     "text": [
      "Message SID: SM658e0adcf96e278ebb21f6dc72875b01\n"
     ]
    }
   ],
   "source": [
    "from twilio.rest import Client\n",
    "\n",
    "account_sid = \"your_acc_sid\"\n",
    "auth_token = \"your_auth_token\"\n",
    "client = Client(account_sid, auth_token)\n",
    "\n",
    "message = client.messages.create(\n",
    "    body=\"Hello\",\n",
    "    from_=\"your_twilio_number\",  \n",
    "    to='number_to_which_you_have_to_sms\t'     \n",
    ")\n",
    "\n",
    "print(\"Message SID:\", message.sid)"
   ]
  },
  {
   "cell_type": "code",
   "execution_count": null,
   "id": "31a0ac22-c9cd-4a0c-97da-ca542477c1e9",
   "metadata": {},
   "outputs": [],
   "source": []
  },
  {
   "cell_type": "code",
   "execution_count": null,
   "id": "60ae16fb-7b81-4f8c-904f-208ee91d3941",
   "metadata": {},
   "outputs": [],
   "source": []
  }
 ],
 "metadata": {
  "kernelspec": {
   "display_name": "Python 3 (ipykernel)",
   "language": "python",
   "name": "python3"
  },
  "language_info": {
   "codemirror_mode": {
    "name": "ipython",
    "version": 3
   },
   "file_extension": ".py",
   "mimetype": "text/x-python",
   "name": "python",
   "nbconvert_exporter": "python",
   "pygments_lexer": "ipython3",
   "version": "3.12.7"
  }
 },
 "nbformat": 4,
 "nbformat_minor": 5
}
