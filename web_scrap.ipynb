{
 "cells": [
  {
   "cell_type": "code",
   "execution_count": 2,
   "id": "7fb25557-53e2-4a32-bd05-d4230a3d9f0a",
   "metadata": {},
   "outputs": [
    {
     "name": "stdout",
     "output_type": "stream",
     "text": [
      "FRENCH BULLDOG\n",
      "LABRADOR RETRIEVER\n",
      "GOLDEN RETRIEVER\n",
      "GERMAN SHEPHERD\n",
      "Japanese Spitz\n",
      "Persian Cat\n",
      "Maine Coon\n",
      "Ragamuffin Cat\n",
      "Scottish Fold Cat\n",
      "Somali Cat\n",
      "Discover Your Favourite Pet with PetsGo\n",
      "Bichon Frise\n",
      "Cockatiel Bird\n",
      "Pygmy Goats\n",
      "Marmoset Monkey\n",
      "Parakeet\n",
      "Persian Cat\n",
      "Tailless Rat\n",
      "Black Phantom Tetra\n",
      "Top Categories\n",
      "Rex\n",
      "Polish\n",
      "Jersey Woolly\n",
      "Mini Lop\n",
      "French Lop\n",
      "Marmoset\n",
      "Guenon\n",
      "Capuchin\n",
      "Tamarin\n",
      "Macaque\n",
      "Pygmy Goat\n",
      "Nigerian Dwarf Goat\n",
      "Mini Fainting Goat\n",
      "Boer Goat\n",
      "Nigora Goat\n",
      "Eclectus Parrot\n",
      "Green-Cheeked Conure\n",
      "Parakeet\n",
      "Cockatiel\n",
      "Pionus Parrot\n",
      "Sterbai Cory\n",
      "Betta\n",
      "Goldfish\n",
      "Tiger Barbs\n",
      "Clownfish\n",
      "Contact\n"
     ]
    }
   ],
   "source": [
    "import requests\n",
    "from bs4 import BeautifulSoup\n",
    "\n",
    "url = \"https://www.apetsgo.com\"  # Replace with your target website\n",
    "response = requests.get(url)\n",
    "soup = BeautifulSoup(markup=response.text, features=\"html.parser\")\n",
    "\n",
    "# Extract and display data\n",
    "titles = soup.find_all(\"h2\")\n",
    "for title in titles:\n",
    "    print(title.text)  # Prints data instead of storing it"
   ]
  },
  {
   "cell_type": "code",
   "execution_count": null,
   "id": "a66e8b52-a118-4bd0-a094-17a85cf88921",
   "metadata": {},
   "outputs": [],
   "source": []
  }
 ],
 "metadata": {
  "kernelspec": {
   "display_name": "Python 3 (ipykernel)",
   "language": "python",
   "name": "python3"
  },
  "language_info": {
   "codemirror_mode": {
    "name": "ipython",
    "version": 3
   },
   "file_extension": ".py",
   "mimetype": "text/x-python",
   "name": "python",
   "nbconvert_exporter": "python",
   "pygments_lexer": "ipython3",
   "version": "3.12.7"
  }
 },
 "nbformat": 4,
 "nbformat_minor": 5
}
